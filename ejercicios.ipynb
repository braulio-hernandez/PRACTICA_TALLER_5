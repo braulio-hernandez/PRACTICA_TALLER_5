{
  "nbformat": 4,
  "nbformat_minor": 0,
  "metadata": {
    "colab": {
      "provenance": [],
      "authorship_tag": "ABX9TyMEhdcHTgSTLW1sdtTglHO/",
      "include_colab_link": true
    },
    "kernelspec": {
      "name": "python3",
      "display_name": "Python 3"
    },
    "language_info": {
      "name": "python"
    }
  },
  "cells": [
    {
      "cell_type": "markdown",
      "metadata": {
        "id": "view-in-github",
        "colab_type": "text"
      },
      "source": [
        "<a href=\"https://colab.research.google.com/github/braulio-hernandez/PRACTICA_TALLER_5/blob/main/ejercicios.ipynb\" target=\"_parent\"><img src=\"https://colab.research.google.com/assets/colab-badge.svg\" alt=\"Open In Colab\"/></a>"
      ]
    },
    {
      "cell_type": "markdown",
      "source": [
        "#ejercicio 1\n",
        "\n",
        "\n",
        "\n",
        "\n",
        "##·crea una funcion que reciba dos parametros, una oracion y un nombre, que permita validar si el nombre esta incluida en la oracion\n",
        "\n"
      ],
      "metadata": {
        "id": "jc5s2lD2On5C"
      }
    },
    {
      "cell_type": "code",
      "source": [
        "def is_in_phrase(word, phrase):\n",
        "          return word in phrase\n",
        "\n",
        "\n",
        "my_name = input(\"escriva su nombre: \")\n",
        "my_phrase = input(\"escriba una oracion: \")\n",
        "\n",
        "if is_in_phrase(my_name, my_phrase):\n",
        "   print(\"la palabra  se encuentra en la frase:\")\n",
        "else:\n",
        "  print(\"la palabra no se encuentra en la frase\")"
      ],
      "metadata": {
        "colab": {
          "base_uri": "https://localhost:8080/"
        },
        "id": "JTKxEoKLPE53",
        "outputId": "87c38058-f61a-4a90-b2fc-8bab006c6328"
      },
      "execution_count": 6,
      "outputs": [
        {
          "output_type": "stream",
          "name": "stdout",
          "text": [
            "escriva su nombre: braulio\n",
            "escriba una oracion: esta mañana me encontre con braulio y lo salude\n",
            "la palabra  se encuentra en la frase:\n"
          ]
        }
      ]
    },
    {
      "cell_type": "markdown",
      "source": [],
      "metadata": {
        "id": "24b0zGEQSf-I"
      }
    },
    {
      "cell_type": "code",
      "source": [
        "def non_consecutive(word):\n",
        "  new_word = \"\"\n",
        "  for i in range(0, len(word), 2):\n",
        "      new_word += word[i]\n",
        "\n",
        "  return new_word\n",
        "print(non_consecutive(\"murcielagos\"))\n",
        "print(non_consecutive(\"lechuza\"))"
      ],
      "metadata": {
        "colab": {
          "base_uri": "https://localhost:8080/"
        },
        "id": "WPmx5IABSopd",
        "outputId": "533e3c91-5b54-44e5-c934-bd15a102aa91"
      },
      "execution_count": 10,
      "outputs": [
        {
          "output_type": "stream",
          "name": "stdout",
          "text": [
            "mrilgs\n",
            "lcua\n"
          ]
        }
      ]
    },
    {
      "cell_type": "markdown",
      "source": [],
      "metadata": {
        "id": "tm_lcxj4UQVI"
      }
    },
    {
      "cell_type": "code",
      "source": [
        "def reverse_word(word):\n",
        "  return word[::-1]\n",
        "  ne_word = \"\"\n",
        "\n",
        "print(reverse_word(\"murcielagos\"))\n",
        "print(reverse_word(\"lechuza\"))\n"
      ],
      "metadata": {
        "colab": {
          "base_uri": "https://localhost:8080/"
        },
        "id": "X3sDwVZcUQwn",
        "outputId": "b74c6039-ce6e-48b3-b90d-2dfdad27651c"
      },
      "execution_count": 11,
      "outputs": [
        {
          "output_type": "stream",
          "name": "stdout",
          "text": [
            "sogaleicrum\n",
            "azuhcel\n"
          ]
        }
      ]
    },
    {
      "cell_type": "markdown",
      "source": [],
      "metadata": {
        "id": "yOh7EthJWhVF"
      }
    },
    {
      "cell_type": "code",
      "source": [
        "sentence = \"anita lava la tina\"\n",
        "text_list = sentence.split()\n",
        "text = \"\" .join(text_list).lower()\n",
        "reservese_text = reservese_word(text)\n",
        "\n",
        "\n",
        "\n"
      ],
      "metadata": {
        "id": "c71IC4ekWhfh"
      },
      "execution_count": null,
      "outputs": []
    },
    {
      "cell_type": "markdown",
      "source": [],
      "metadata": {
        "id": "NeJzJUMgYLrr"
      }
    },
    {
      "cell_type": "code",
      "source": [
        "sujeto = [\"mami\", \"bebe\", \"princesa\",\"mami\"]\n",
        "deseo = [\"yo quiero\", \"yo puedo\", \"yo vengo a\", \"voy a\" ]\n",
        "accion = [\"ensendelte\"; \"amalte\", \"ligal\", \"jugal\"]\n",
        "adjetivo = [\"suave\", \"lento\", \"\"]"
      ],
      "metadata": {
        "id": "W3hox4qyYL39"
      },
      "execution_count": 12,
      "outputs": []
    }
  ]
}