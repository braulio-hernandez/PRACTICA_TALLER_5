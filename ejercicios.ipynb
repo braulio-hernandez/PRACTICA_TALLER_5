{
  "nbformat": 4,
  "nbformat_minor": 0,
  "metadata": {
    "colab": {
      "provenance": [],
      "authorship_tag": "ABX9TyMTk18V0QfO4w5STPhVlRha",
      "include_colab_link": true
    },
    "kernelspec": {
      "name": "python3",
      "display_name": "Python 3"
    },
    "language_info": {
      "name": "python"
    }
  },
  "cells": [
    {
      "cell_type": "markdown",
      "metadata": {
        "id": "view-in-github",
        "colab_type": "text"
      },
      "source": [
        "<a href=\"https://colab.research.google.com/github/braulio-hernandez/PRACTICA_TALLER_5/blob/main/ejercicios.ipynb\" target=\"_parent\"><img src=\"https://colab.research.google.com/assets/colab-badge.svg\" alt=\"Open In Colab\"/></a>"
      ]
    },
    {
      "cell_type": "markdown",
      "source": [
        "#ejercicio 1\n",
        "\n",
        "\n",
        "\n",
        "\n",
        "##·crea una funcion que reciba dos parametros, una oracion y un nombre, que permita validar si el nombre esta incluida en la oracion\n",
        "\n"
      ],
      "metadata": {
        "id": "jc5s2lD2On5C"
      }
    },
    {
      "cell_type": "code",
      "source": [
        "def is_in_phrase(word, phrase):\n",
        "          return word in phrase\n",
        "\n",
        "\n",
        "my_name = input(\"escriva su nombre: \")\n",
        "my_phrase = input(\"escriba una oracion: \")\n",
        "\n",
        "if is_in_phrase(my_name, my_phrase):\n",
        "   print(\"la palabra  se encuentra en la frase:\")\n",
        "else:\n",
        "  print(\"la palabra no se encuentra en la frase\")"
      ],
      "metadata": {
        "colab": {
          "base_uri": "https://localhost:8080/"
        },
        "id": "JTKxEoKLPE53",
        "outputId": "87c38058-f61a-4a90-b2fc-8bab006c6328"
      },
      "execution_count": null,
      "outputs": [
        {
          "output_type": "stream",
          "name": "stdout",
          "text": [
            "escriva su nombre: braulio\n",
            "escriba una oracion: esta mañana me encontre con braulio y lo salude\n",
            "la palabra  se encuentra en la frase:\n"
          ]
        }
      ]
    },
    {
      "cell_type": "markdown",
      "source": [],
      "metadata": {
        "id": "24b0zGEQSf-I"
      }
    },
    {
      "cell_type": "code",
      "source": [
        "def non_consecutive(word):\n",
        "  new_word = \"\"\n",
        "  for i in range(0, len(word), 2):\n",
        "      new_word += word[i]\n",
        "\n",
        "  return new_word\n",
        "print(non_consecutive(\"murcielagos\"))\n",
        "print(non_consecutive(\"lechuza\"))"
      ],
      "metadata": {
        "colab": {
          "base_uri": "https://localhost:8080/"
        },
        "id": "WPmx5IABSopd",
        "outputId": "533e3c91-5b54-44e5-c934-bd15a102aa91"
      },
      "execution_count": null,
      "outputs": [
        {
          "output_type": "stream",
          "name": "stdout",
          "text": [
            "mrilgs\n",
            "lcua\n"
          ]
        }
      ]
    },
    {
      "cell_type": "markdown",
      "source": [],
      "metadata": {
        "id": "tm_lcxj4UQVI"
      }
    },
    {
      "cell_type": "code",
      "source": [
        "def reverse_word(word):\n",
        "  return word[::-1]\n",
        "  ne_word = \"\"\n",
        "\n",
        "print(reverse_word(\"murcielagos\"))\n",
        "print(reverse_word(\"lechuza\"))\n"
      ],
      "metadata": {
        "colab": {
          "base_uri": "https://localhost:8080/"
        },
        "id": "X3sDwVZcUQwn",
        "outputId": "b74c6039-ce6e-48b3-b90d-2dfdad27651c"
      },
      "execution_count": null,
      "outputs": [
        {
          "output_type": "stream",
          "name": "stdout",
          "text": [
            "sogaleicrum\n",
            "azuhcel\n"
          ]
        }
      ]
    },
    {
      "cell_type": "markdown",
      "source": [],
      "metadata": {
        "id": "yOh7EthJWhVF"
      }
    },
    {
      "cell_type": "code",
      "source": [
        "sentence = \"anita lava la tina\"\n",
        "text_list = sentence.split()\n",
        "text = \"\" .join(text_list).lower()\n",
        "reservese_text = reservese_word(text)\n",
        "\n",
        "\n",
        "\n"
      ],
      "metadata": {
        "id": "c71IC4ekWhfh"
      },
      "execution_count": null,
      "outputs": []
    },
    {
      "cell_type": "markdown",
      "source": [
        "#creando un rregueton"
      ],
      "metadata": {
        "id": "NeJzJUMgYLrr"
      }
    },
    {
      "cell_type": "code",
      "source": [
        "\n",
        "sujeto = [\"mami\", \"bebe\", \"princesa\",\"mami\"]\n",
        "deseo = [\"yo quiero\", \"yo puedo\", \"yo vengo a\", \"voy a\" ]\n",
        "accion = [\"ensendelte\", \"amalte\", \"ligal\", \"jugal\"]\n",
        "adjetivo = [\"suave\", \"lento\", \"rapido\", \"fuerte\"]\n",
        "complemento = [\"hasta que el sol salga\", \"toda la noche\", \"hasta el amanecer \", \"todo el dia\"]\n",
        "final = [\"sin anestecia\", \"sin compromiso\", \"feis to feis\", \"sin miedo.\"]\n",
        "\n",
        "my_didt ={1:sujeto, 2:deseo, 3:accion, 4:adjetivo, 5:complemento, 6:final}\n",
        "\n",
        "menssage = \"\"\n",
        "\n",
        "import random\n",
        "\n",
        "lines = 6\n",
        "\n",
        "for i in range(lines):\n",
        "  for values in my_didt.values():\n",
        "   menssage += random.choice(values)\n",
        "  menssage += \"/n\"\n",
        "\n",
        "print(menssage)"
      ],
      "metadata": {
        "id": "W3hox4qyYL39",
        "colab": {
          "base_uri": "https://localhost:8080/"
        },
        "outputId": "0dcb216a-6669-491f-855e-6479ea5f2531"
      },
      "execution_count": 12,
      "outputs": [
        {
          "output_type": "stream",
          "name": "stdout",
          "text": [
            "mamiyo puedoamaltelentohasta el amanecer sin compromiso/nprincesayo vengo ajugalrapidotoda la nochefeis to feis/nprincesayo puedoamalterapidotoda la nochesin miedo./nmamiyo vengo aensendeltefuertehasta el amanecer sin compromiso/nmamiyo puedoligalsuavehasta que el sol salgasin compromiso/nprincesayo vengo aensendeltelentohasta que el sol salgasin compromiso/n\n"
          ]
        }
      ]
    },
    {
      "cell_type": "markdown",
      "source": [
        "##crea una funcion que genere un nuevo diccionario apartir de dos listas una con elementos strings y otra con elementos numericos supongamos que las listas son del mismo tamaño"
      ],
      "metadata": {
        "id": "YwPrrZDOtwiv"
      }
    },
    {
      "cell_type": "code",
      "source": [
        "def crear_diccionario(list_keys, list_values):\n",
        " diccionario = {}\n",
        "\n",
        " for i in range(len(list_keys)):\n",
        "   diccionario[list_keys[i]] = list_values[i]\n",
        " return diccionario\n",
        "\n",
        "\n",
        "keys = [\"nombre\", \"edad\", \"ciudad\"]\n",
        "values = [\"braulio\", \"21\", \"montelibano\"]\n",
        "nuevo_diccionario = crear_diccionario(keys, values)\n",
        "print(nuevo_diccionario)\n",
        "\n"
      ],
      "metadata": {
        "colab": {
          "base_uri": "https://localhost:8080/"
        },
        "id": "7dqw1A9esjoy",
        "outputId": "ed4a7675-4e32-43b1-f94a-df3eed2522ab"
      },
      "execution_count": 41,
      "outputs": [
        {
          "output_type": "stream",
          "name": "stdout",
          "text": [
            "{'nombre': 'braulio', 'edad': '21', 'ciudad': 'montelibano'}\n"
          ]
        }
      ]
    },
    {
      "cell_type": "markdown",
      "source": [
        "##crea un diccionario que resiva nobres y notas de estudiantes y retorne a un diccionario donde las llaves sean los nombres y los valores sean listas con las notas de los estudiantes "
      ],
      "metadata": {
        "id": "ouIFZvQmz-ZC"
      }
    },
    {
      "cell_type": "code",
      "source": [
        "def generar_diccionario(notas):\n",
        "  diccionario = {}\n",
        "  for nombre, nota in notas:\n",
        "    if nombre not in diccionario:\n",
        "     diccionario[nombre] = []\n",
        "    diccionario[nombre].append(nota)\n",
        "  return diccionario \n",
        "\n",
        "notas = [(\"juan\",10), (\"maria\",9), (\"pedro\",8), (\"juan\",7), (\"maria\",6)]\n",
        "\n",
        "generar_diccionario(notas)\n",
        "\n",
        "\n",
        "\n"
      ],
      "metadata": {
        "colab": {
          "base_uri": "https://localhost:8080/"
        },
        "id": "Xq9J-URm5vWB",
        "outputId": "b8c6dcb4-186c-4629-f759-ec7ca2eecb4e"
      },
      "execution_count": 51,
      "outputs": [
        {
          "output_type": "execute_result",
          "data": {
            "text/plain": [
              "{'juan': [10, 7], 'maria': [9, 6], 'pedro': [8]}"
            ]
          },
          "metadata": {},
          "execution_count": 51
        }
      ]
    },
    {
      "cell_type": "markdown",
      "source": [
        "##crea una funcion que calcule y retorne el promedio de notas de cada uno de los estudiantes de un diccionario donde las llaves son los nombres y los valores son listas con las notas de cada estudiante "
      ],
      "metadata": {
        "id": "8-jicB06-EGF"
      }
    },
    {
      "cell_type": "code",
      "source": [
        "def calcular_promedio_notas(estudiantes):\n",
        "    promedios = {}\n",
        "\n",
        "    for estudiante, notas in estudiantes.items():\n",
        "        promedio = sum(notas) / len(notas)\n",
        "        promedios[estudiante] = promedio\n",
        "      \n",
        "    return promedios\n",
        "      \n",
        "\n",
        "estudiantes = {\"juan\":[3.5, 4.0, 2.9], \"maria\":[4.5, 3.0, 5.0], \"pedro\":[3.0, 4.0, 2.9]}\n",
        "\n",
        "promedios = calcular_promedio_notas(estudiantes)\n",
        "\n",
        "print(promedios)\n"
      ],
      "metadata": {
        "colab": {
          "base_uri": "https://localhost:8080/"
        },
        "id": "PkgM6U_3-tey",
        "outputId": "f1594fc1-6d20-4f50-f7af-7e69f8d54ac5"
      },
      "execution_count": 111,
      "outputs": [
        {
          "output_type": "stream",
          "name": "stdout",
          "text": [
            "{'juan': 3.466666666666667, 'maria': 4.166666666666667, 'pedro': 3.3000000000000003}\n"
          ]
        }
      ]
    }
  ]
}